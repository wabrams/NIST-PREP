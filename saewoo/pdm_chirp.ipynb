{
 "cells": [
  {
   "cell_type": "code",
   "execution_count": null,
   "metadata": {},
   "outputs": [],
   "source": [
    "import numpy as np\n",
    "import serial\n",
    "import serial.tools.list_ports\n",
    "import platform\n",
    "import matplotlib.pyplot as plt\n",
    "import plotly.graph_objects as go\n",
    "import struct\n",
    "import time"
   ]
  },
  {
   "cell_type": "code",
   "execution_count": null,
   "metadata": {},
   "outputs": [],
   "source": [
    "def list_ports():\n",
    "    devOS = platform.system()\n",
    "    print(\"Detected\", devOS, \"Computer\")\n",
    "    ports = []\n",
    "    if devOS == \"Windows\":\n",
    "        ports = serial.tools.list_ports.comports()\n",
    "    print(\"Listing all Serial Ports:\")\n",
    "    for p in ports:\n",
    "        print(p)\n",
    "        \n",
    "list_ports()"
   ]
  },
  {
   "cell_type": "code",
   "execution_count": null,
   "metadata": {},
   "outputs": [],
   "source": [
    "port = input(\"serial port 1:\")\n",
    "s1 = serial.Serial(port)\n",
    "s1.flush()\n",
    "port = input(\"serial port 2:\")\n",
    "s2 = serial.Serial(port)\n",
    "s2.flush()"
   ]
  },
  {
   "cell_type": "code",
   "execution_count": null,
   "metadata": {},
   "outputs": [],
   "source": [
    "def set_chirp_length(s=s1, t=1e-3):\n",
    "    ba = bytearray(struct.pack(\"f\", t))\n",
    "    msg = b'0'+bytes(ba)\n",
    "    s.write(msg)\n",
    "    done = False\n",
    "    while not done:\n",
    "        msg = s.readline()\n",
    "        print(msg)\n",
    "        if msg.startswith(b'ack'):\n",
    "            done = True\n",
    "\n",
    "def set_start(s=s1, f=20000):\n",
    "    msg = b'1'+(f).to_bytes(2, byteorder='little')\n",
    "    s.write(msg)\n",
    "    done = False\n",
    "    while not done:\n",
    "        msg = s.readline()\n",
    "        print(msg)\n",
    "        if msg.startswith(b'ack'):\n",
    "            done = True\n",
    "\n",
    "def set_stop(s=s1, f=20000):\n",
    "    msg = b'2'+(f).to_bytes(2, byteorder='little')\n",
    "    s.write(msg)\n",
    "    done = False\n",
    "    while not done:\n",
    "        msg = s.readline()\n",
    "        print(msg)\n",
    "        if msg.startswith(b'ack'):\n",
    "            done = True\n",
    "                       \n",
    "def get_size(s, string):\n",
    "    done = False\n",
    "    while not done:\n",
    "        msg = s.readline()\n",
    "        # print(msg)\n",
    "        if msg.startswith(string.encode()):\n",
    "            done =  True\n",
    "    size = msg.decode().split(':')[-1]\n",
    "    return int(size)\n",
    "\n",
    "def get_mic(s=s1):\n",
    "    size = get_size(s, 'left')\n",
    "    l = s.read((size<<1))\n",
    "    size = get_size(s, 'right')\n",
    "    r = s.read((size<<1))\n",
    "    msg = s.readline()\n",
    "    if len(msg)!=2:\n",
    "        print(\"problem\")\n",
    "    l = np.frombuffer(l, dtype=np.int16)\n",
    "    r = np.frombuffer(r, dtype=np.int16)\n",
    "    \n",
    "    return l,r\n",
    "\n",
    "def flush_serial(s=s1):\n",
    "    while True:\n",
    "        print(s.readline())"
   ]
  },
  {
   "cell_type": "code",
   "execution_count": null,
   "metadata": {},
   "outputs": [],
   "source": [
    "freq_start =  20000\n",
    "freq_stop = 20000\n",
    "pulse_width = 1e-3\n",
    "\n",
    "set_chirp_length(s1, pulse_width)\n",
    "set_start(s=s1, f=freq_start)\n",
    "set_stop(s=s1, f=freq_stop)"
   ]
  },
  {
   "cell_type": "code",
   "execution_count": null,
   "metadata": {},
   "outputs": [],
   "source": [
    "s1.write(b'a')\n",
    "s2.write(b'l')\n",
    "time.sleep(0.1)\n",
    "l,r = get_mic(s1)\n",
    "s2.write(b't')\n",
    "l2,r2 = get_mic(s2)\n",
    "fig = go.Figure()\n",
    "fs = 19e6/32/6;\n",
    "dt = 1/fs;\n",
    "x = np.arange(len(l))\n",
    "trace_left = go.Scatter(x=x, y=l, mode='lines+markers')\n",
    "fig.add_trace(trace_left)\n",
    "trace_right = go.Scatter(x=x, y=r, mode='lines+markers')\n",
    "fig.add_trace(trace_right)\n",
    "trace_left = go.Scatter(x=x, y=l2, mode='lines+markers')\n",
    "fig.add_trace(trace_left)\n",
    "trace_right = go.Scatter(x=x, y=r2, mode='lines+markers')\n",
    "fig.add_trace(trace_right)\n",
    "fig.show()"
   ]
  },
  {
   "cell_type": "code",
   "execution_count": null,
   "metadata": {},
   "outputs": [],
   "source": [
    "timerFreq = 19e6\n",
    "top_start = int(timerFreq / freq_start);  # period of start frequency\n",
    "top_stop = int(timerFreq / freq_stop);  # period of stop frequency\n",
    "N_waves = int(pulse_width * (freq_stop+freq_start)/2);\n",
    "top_step = (freq_start - freq_stop) / (freq_start * freq_stop) * timerFreq / (N_waves - 1);\n",
    "\n",
    "top_start, top_stop, top_step, N_waves\n",
    "\n",
    "list_periods = []\n",
    "for i in range(N_waves):\n",
    "    period = top_start + int(i*top_step)\n",
    "    list_periods.append(period)\n",
    "list_periods =  np.array(list_periods)\n",
    "\n",
    "list_periods\n",
    "\n",
    "chirp = []\n",
    "for period in list_periods:\n",
    "    chirp = np.hstack([chirp, np.ones(int(period/2)), np.zeros(period-int(period/2))])\n",
    "\n",
    "offset = 0\n",
    "chirp_pdm = chirp[offset::(32*6)]"
   ]
  },
  {
   "cell_type": "code",
   "execution_count": null,
   "metadata": {},
   "outputs": [],
   "source": [
    "\n",
    "fig = go.Figure()\n",
    "fs = 19e6/32/6;\n",
    "dt = 1/fs;\n",
    "x = np.arange(len(l))\n",
    "trace_left = go.Scatter(x=x, y=np.correlate(l, chirp_pdm, 'valid'), mode='lines+markers')\n",
    "fig.add_trace(trace_left)\n",
    "trace_right = go.Scatter(x=x, y=np.correlate(r, chirp_pdm, 'valid'), mode='lines+markers')\n",
    "fig.add_trace(trace_right)\n",
    "trace_left = go.Scatter(x=x, y=np.correlate(l2, chirp_pdm, 'valid'), mode='lines+markers')\n",
    "fig.add_trace(trace_left)\n",
    "trace_right = go.Scatter(x=x, y=np.correlate(r2, chirp_pdm, 'valid'), mode='lines+markers')\n",
    "fig.add_trace(trace_right)\n",
    "fig"
   ]
  },
  {
   "cell_type": "code",
   "execution_count": null,
   "metadata": {},
   "outputs": [],
   "source": [
    "#reverse chirp\n",
    "freq_start =  30000\n",
    "freq_stop = 30000\n",
    "pulse_width = 2.5e-3\n",
    "\n",
    "timerFreq = 19e6\n",
    "top_start = int(timerFreq / freq_start);  # period of start frequency\n",
    "top_stop = int(timerFreq / freq_stop);  # period of stop frequency\n",
    "N_waves = int(pulse_width * (freq_stop+freq_start)/2);\n",
    "top_step = (freq_start - freq_stop) / (freq_start * freq_stop) * timerFreq / (N_waves - 1);\n",
    "\n",
    "top_start, top_stop, top_step, N_waves\n",
    "\n",
    "list_periods = []\n",
    "for i in range(N_waves):\n",
    "    period = top_start + int(i*top_step)\n",
    "    list_periods.append(period)\n",
    "list_periods =  np.array(list_periods)\n",
    "\n",
    "list_periods\n",
    "\n",
    "chirp = []\n",
    "for period in list_periods:\n",
    "    chirp = np.hstack([chirp, np.ones(int(period/2)), np.zeros(period-int(period/2))])\n",
    "\n",
    "offset = 0\n",
    "chirp_pdm = chirp[offset::(32*6)]"
   ]
  },
  {
   "cell_type": "code",
   "execution_count": null,
   "metadata": {},
   "outputs": [],
   "source": [
    "\n",
    "fig = go.Figure()\n",
    "fs = 19e6/32/6;\n",
    "dt = 1/fs;\n",
    "x = np.arange(len(l))\n",
    "trace_left = go.Scatter(x=x, y=np.correlate(l, chirp_pdm, 'valid'), mode='lines+markers')\n",
    "fig.add_trace(trace_left)\n",
    "trace_right = go.Scatter(x=x, y=np.correlate(r, chirp_pdm, 'valid'), mode='lines+markers')\n",
    "fig.add_trace(trace_right)\n",
    "trace_left = go.Scatter(x=x, y=np.correlate(l2, chirp_pdm, 'valid'), mode='lines+markers')\n",
    "fig.add_trace(trace_left)\n",
    "trace_right = go.Scatter(x=x, y=np.correlate(r2, chirp_pdm, 'valid'), mode='lines+markers')\n",
    "fig.add_trace(trace_right)\n",
    "fig"
   ]
  },
  {
   "cell_type": "code",
   "execution_count": null,
   "metadata": {},
   "outputs": [],
   "source": [
    "# this cell doesn't seem to want to run well\n",
    "\n",
    "#  play chirp, get periods\n",
    "# set_start(f=20000)\n",
    "# set_stop(f=22000)\n",
    "# pw=1e-3\n",
    "# set_chirp_length(pw)\n",
    "s.write(b'c')\n",
    "print(s.readline())\n",
    "s.write(b'p')\n",
    "size = get_size('top_values:')\n",
    "raw = s.read(size)\n",
    "print(s.readline())\n",
    "pulses = np.frombuffer(raw, dtype=np.int32)\n",
    "pulses[pulses>0].sum() - 19e6*pw"
   ]
  },
  {
   "cell_type": "code",
   "execution_count": null,
   "metadata": {},
   "outputs": [],
   "source": [
    "pulses[pulses>0]"
   ]
  },
  {
   "cell_type": "code",
   "execution_count": null,
   "metadata": {},
   "outputs": [],
   "source": [
    "set_start(f=20000)\n",
    "set_stop(f=30000)\n",
    "pw=5e-3\n",
    "set_chirp_length(pw)\n",
    "s.write(b'c')"
   ]
  },
  {
   "cell_type": "code",
   "execution_count": null,
   "metadata": {},
   "outputs": [],
   "source": [
    "while True:\n",
    "    print(s2.readline())"
   ]
  },
  {
   "cell_type": "code",
   "execution_count": null,
   "metadata": {},
   "outputs": [],
   "source": [
    "s1.write(b'l')\n",
    "s1.write(b't')"
   ]
  },
  {
   "cell_type": "code",
   "execution_count": null,
   "metadata": {},
   "outputs": [],
   "source": [
    "L = np.fft.rfft(l)\n",
    "L2 = np.fft.rfft(l2)"
   ]
  },
  {
   "cell_type": "code",
   "execution_count": null,
   "metadata": {},
   "outputs": [],
   "source": [
    "plt.semilogy(np.abs(L))\n",
    "plt.semilogy(np.abs(L2))"
   ]
  },
  {
   "cell_type": "code",
   "execution_count": null,
   "metadata": {},
   "outputs": [],
   "source": [
    "a = np.arange(100)\n",
    "a.shape=(-1,10)\n",
    "a.max(axis=1)"
   ]
  },
  {
   "cell_type": "code",
   "execution_count": null,
   "metadata": {},
   "outputs": [],
   "source": [
    "b = a.cumsum()"
   ]
  },
  {
   "cell_type": "code",
   "execution_count": null,
   "metadata": {},
   "outputs": [],
   "source": [
    "b[10:] - b[:-10]"
   ]
  },
  {
   "cell_type": "code",
   "execution_count": null,
   "metadata": {},
   "outputs": [],
   "source": [
    "a = np.arange(4)\n",
    "b = a+1"
   ]
  },
  {
   "cell_type": "code",
   "execution_count": null,
   "metadata": {},
   "outputs": [],
   "source": [
    "for (aa,bb) in zip(a,b):\n",
    "    print(aa,bb)"
   ]
  },
  {
   "cell_type": "code",
   "execution_count": null,
   "metadata": {},
   "outputs": [],
   "source": []
  }
 ],
 "metadata": {
  "kernelspec": {
   "display_name": "Python 3",
   "language": "python",
   "name": "python3"
  },
  "language_info": {
   "codemirror_mode": {
    "name": "ipython",
    "version": 3
   },
   "file_extension": ".py",
   "mimetype": "text/x-python",
   "name": "python",
   "nbconvert_exporter": "python",
   "pygments_lexer": "ipython3",
   "version": "3.7.6"
  }
 },
 "nbformat": 4,
 "nbformat_minor": 4
}
